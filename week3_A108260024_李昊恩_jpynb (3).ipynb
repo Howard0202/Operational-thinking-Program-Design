{
  "nbformat": 4,
  "nbformat_minor": 0,
  "metadata": {
    "colab": {
      "name": "week3 A108260024  李昊恩.jpynb",
      "provenance": []
    },
    "kernelspec": {
      "name": "python3",
      "display_name": "Python 3"
    }
  },
  "cells": [
    {
      "cell_type": "code",
      "metadata": {
        "id": "MQpUYyocJXKv",
        "colab_type": "code",
        "colab": {
          "base_uri": "https://localhost:8080/",
          "height": 34
        },
        "outputId": "2ab59285-46a0-4ebe-8444-1dbefd8995a9"
      },
      "source": [
        "print(\"Hello world\")"
      ],
      "execution_count": 1,
      "outputs": [
        {
          "output_type": "stream",
          "text": [
            "Hello world\n"
          ],
          "name": "stdout"
        }
      ]
    },
    {
      "cell_type": "code",
      "metadata": {
        "id": "Yg_JBydkMDkZ",
        "colab_type": "code",
        "colab": {
          "base_uri": "https://localhost:8080/",
          "height": 34
        },
        "outputId": "aa1ae6c1-bdb0-4742-fa42-bb980878d620"
      },
      "source": [
        "print(\"I'm 李昊恩\")"
      ],
      "execution_count": 2,
      "outputs": [
        {
          "output_type": "stream",
          "text": [
            "I'm 李昊恩\n"
          ],
          "name": "stdout"
        }
      ]
    }
  ]
}