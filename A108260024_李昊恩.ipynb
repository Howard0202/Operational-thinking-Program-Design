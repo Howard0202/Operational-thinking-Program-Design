{
  "nbformat": 4,
  "nbformat_minor": 0,
  "metadata": {
    "colab": {
      "name": "A108260024 李昊恩.ipynb",
      "provenance": []
    },
    "kernelspec": {
      "name": "python3",
      "display_name": "Python 3"
    }
  },
  "cells": [
    {
      "cell_type": "code",
      "metadata": {
        "id": "INgtjuxE4Sax",
        "colab_type": "code",
        "colab": {}
      },
      "source": [
        "while True:\n",
        "    acc = input('請輸入帳號?')\n",
        "    pwd = input('請輸入密碼?')\n",
        "    if (acc == 'abc' and pwd == '123'):\n",
        "        print('帳號與密碼正確')\n",
        "        break\n",
        "    else:\n",
        "        print('登入失敗')"
      ],
      "execution_count": 0,
      "outputs": []
    },
    {
      "cell_type": "code",
      "metadata": {
        "id": "EatPd1uGvsE5",
        "colab_type": "code",
        "colab": {
          "base_uri": "https://localhost:8080/",
          "height": 68
        },
        "outputId": "dc1bb3df-50db-4054-bdff-7d4acb56a6a5"
      },
      "source": [
        "password = \"a123456\"\n",
        "times = 0\n",
        "\n",
        "while times <= 3:\n",
        "    answer = input(\"Enter Your Password: \") \n",
        "    if answer == password: \n",
        "        print(\"登入成功\")\n",
        "        break \n",
        "    else:\n",
        "        times = times + 1\n",
        "        chance = 3 - times\n",
        "print(\"密碼錯誤!還有\", chance, \"次機會\")"
      ],
      "execution_count": 6,
      "outputs": [
        {
          "output_type": "stream",
          "text": [
            "Enter Your Password: a123456\n",
            "登入成功\n",
            "密碼錯誤!還有 2 次機會\n"
          ],
          "name": "stdout"
        }
      ]
    },
    {
      "cell_type": "code",
      "metadata": {
        "id": "SoR9iXoI5UvW",
        "colab_type": "code",
        "colab": {}
      },
      "source": [
        "sum = 0\n",
        "\n",
        "for x in range(1, 11, 2):\n",
        "    sum = sum + x\n",
        "    \n",
        "print(\"1+3+5+7+9=\", sum)"
      ],
      "execution_count": 0,
      "outputs": []
    },
    {
      "cell_type": "code",
      "metadata": {
        "id": "6J5AHy4i481P",
        "colab_type": "code",
        "colab": {}
      },
      "source": [
        "n = int(input('請輸入n值?'))\n",
        "sum = 0;\n",
        "for i in range(1,n+1):\n",
        "    sum = sum + i*i;\n",
        "print(sum)"
      ],
      "execution_count": 0,
      "outputs": []
    }
  ]
}