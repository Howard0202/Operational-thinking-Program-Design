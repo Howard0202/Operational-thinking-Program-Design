{
  "nbformat": 4,
  "nbformat_minor": 0,
  "metadata": {
    "colab": {
      "name": "Week6 A108260024李昊恩.ipynb",
      "provenance": []
    },
    "kernelspec": {
      "name": "python3",
      "display_name": "Python 3"
    }
  },
  "cells": [
    {
      "cell_type": "code",
      "metadata": {
        "id": "zWknPdzUS7Ob",
        "colab_type": "code",
        "colab": {
          "base_uri": "https://localhost:8080/",
          "height": 102
        },
        "outputId": "8f91c3eb-d20b-4986-a441-6ea7bc00ad06"
      },
      "source": [
        "第一次期中考=int(input('請輸入第一次期中考成績'))\n",
        "第二次期中考=int(input('請輸入第二次期中考成績'))\n",
        "期末考=int(input('請輸入期末考成績'))\n",
        "總分=第一次期中考+第二次期中考+期末考\n",
        "平均=總分/3\n",
        "print('總分為',總分)\n",
        "print('平均',平均)"
      ],
      "execution_count": 1,
      "outputs": [
        {
          "output_type": "stream",
          "text": [
            "請輸入第一次期中考成績75\n",
            "請輸入第二次期中考成績80\n",
            "請輸入期末考成績65\n",
            "總分為 220\n",
            "平均 73.33333333333333\n"
          ],
          "name": "stdout"
        }
      ]
    },
    {
      "cell_type": "code",
      "metadata": {
        "id": "PpPEAujkYzSQ",
        "colab_type": "code",
        "colab": {
          "base_uri": "https://localhost:8080/",
          "height": 68
        },
        "outputId": "03757234-7812-4115-e603-1536a72c90e4"
      },
      "source": [
        "#2.英制轉公制\n",
        "尺=int(input('請輸入幾尺'))\n",
        "吋=int(input('請輸入幾吋'))\n",
        "公分=(尺*12+8)*2.54\n",
        "print('轉換成',公分) #公分"
      ],
      "execution_count": 3,
      "outputs": [
        {
          "output_type": "stream",
          "text": [
            "請輸入幾尺5\n",
            "請輸入幾吋8\n",
            "轉換成 172.72\n"
          ],
          "name": "stdout"
        }
      ]
    },
    {
      "cell_type": "code",
      "metadata": {
        "id": "8ryLoutAZys-",
        "colab_type": "code",
        "colab": {
          "base_uri": "https://localhost:8080/",
          "height": 51
        },
        "outputId": "631b36e1-0e33-44d0-a84e-9cfb5f19572f"
      },
      "source": [
        "#3.分組報告\n",
        "座號=int(input('請輸入座號?'))\n",
        "組別=int(座號/4)\n",
        "print('組別為',組別)"
      ],
      "execution_count": 4,
      "outputs": [
        {
          "output_type": "stream",
          "text": [
            "請輸入座號?19\n",
            "組別為 4\n"
          ],
          "name": "stdout"
        }
      ]
    },
    {
      "cell_type": "code",
      "metadata": {
        "id": "5ilSKmPEZ79L",
        "colab_type": "code",
        "colab": {
          "base_uri": "https://localhost:8080/",
          "height": 51
        },
        "outputId": "deabe0e6-09fa-4c80-ed76-1bf0e4e75c83"
      },
      "source": [
        "#4.賣場買飲料\n",
        "罐數=int(input('請輸入購買罐數?'))\n",
        "打=int(罐數/12)\n",
        "花費=(打*200)+(罐數-打*12)*20\n",
        "print('需花費',花費)"
      ],
      "execution_count": 5,
      "outputs": [
        {
          "output_type": "stream",
          "text": [
            "請輸入購買罐數?30\n",
            "需花費 520\n"
          ],
          "name": "stdout"
        }
      ]
    }
  ]
}